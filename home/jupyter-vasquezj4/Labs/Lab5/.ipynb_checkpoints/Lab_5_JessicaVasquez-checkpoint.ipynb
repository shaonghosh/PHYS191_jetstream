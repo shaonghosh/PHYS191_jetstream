version https://git-lfs.github.com/spec/v1
oid sha256:046d719ba330cdeda1eed30bdc3e1ef5b00d69a3ca3ae613eccaffa9c26253e3
size 87095
