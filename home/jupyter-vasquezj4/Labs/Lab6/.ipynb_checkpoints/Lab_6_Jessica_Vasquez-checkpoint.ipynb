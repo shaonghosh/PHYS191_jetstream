version https://git-lfs.github.com/spec/v1
oid sha256:b6d05c60dfe701c703b838fc2949da5220a59d161fa2aac9e40b0f57c4d84e6f
size 235113
