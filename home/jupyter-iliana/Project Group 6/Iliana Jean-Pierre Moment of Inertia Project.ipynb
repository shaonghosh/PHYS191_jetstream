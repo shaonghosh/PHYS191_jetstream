version https://git-lfs.github.com/spec/v1
oid sha256:0996984b8e7fab07cfb7e0e895e259f6d7c052d8156e9a650b9d98b0ad82b934
size 409104
