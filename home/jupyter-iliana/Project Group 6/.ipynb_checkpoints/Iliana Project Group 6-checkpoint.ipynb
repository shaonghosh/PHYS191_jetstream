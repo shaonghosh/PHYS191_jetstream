version https://git-lfs.github.com/spec/v1
oid sha256:dcf5d6e05043ae473ffd438dbf0509597e059881102965285bf9b6d7ac616992
size 156733
