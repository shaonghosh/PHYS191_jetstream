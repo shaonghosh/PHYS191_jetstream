version https://git-lfs.github.com/spec/v1
oid sha256:f2ca2025f85841d947a2275f7a2287cdf0f110e3cd37f720de3a97385f738471
size 25087850
