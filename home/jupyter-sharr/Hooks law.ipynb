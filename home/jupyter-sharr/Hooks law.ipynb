version https://git-lfs.github.com/spec/v1
oid sha256:e89fdb0f06df932590a45f5a80cd021f63f344431802341bd5b7c13cbdb73bb8
size 143242
