version https://git-lfs.github.com/spec/v1
oid sha256:f05545252c0cb7cacbc0fff9b9839685e106ff9428866703e2ff5136e30ba8a0
size 402406
