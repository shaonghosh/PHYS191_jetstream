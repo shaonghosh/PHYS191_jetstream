version https://git-lfs.github.com/spec/v1
oid sha256:c60c6eb8b1c54dceb37cbcdd11bbe17f33a9ec2368a981aa574f0d90b0c32401
size 298548
