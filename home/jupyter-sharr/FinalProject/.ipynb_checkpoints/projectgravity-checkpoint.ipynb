version https://git-lfs.github.com/spec/v1
oid sha256:827b6fe698f60b53f18be59af5e710fb5c9c1cf89dfa8a3559c7f6034e3aea75
size 288
