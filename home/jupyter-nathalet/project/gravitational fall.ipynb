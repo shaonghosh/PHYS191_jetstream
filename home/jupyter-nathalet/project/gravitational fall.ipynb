version https://git-lfs.github.com/spec/v1
oid sha256:00bb82bd5e2983d852fbcc5c4bc02a67bdfb9cd80e33d383168ca986ae208dea
size 249037
