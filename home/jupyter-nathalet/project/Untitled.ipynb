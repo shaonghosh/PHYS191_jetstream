version https://git-lfs.github.com/spec/v1
oid sha256:ff7d3a03e39e9bb4ff0dbf644e443e5b9cd24050acdf0d1df7580abf4495e30a
size 31136
