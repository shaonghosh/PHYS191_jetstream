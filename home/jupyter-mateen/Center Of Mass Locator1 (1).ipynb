version https://git-lfs.github.com/spec/v1
oid sha256:d098e400823463b46d22fafe2ce5461074be2c45d29a203ed5c2c2074d9b3a45
size 242380
