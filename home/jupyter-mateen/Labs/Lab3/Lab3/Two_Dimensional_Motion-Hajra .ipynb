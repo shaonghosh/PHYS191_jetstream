version https://git-lfs.github.com/spec/v1
oid sha256:edf396d5a30babef6b10037bf5a5ae85a31e63ad1e5d2dd64bbad63db02233c9
size 400772
