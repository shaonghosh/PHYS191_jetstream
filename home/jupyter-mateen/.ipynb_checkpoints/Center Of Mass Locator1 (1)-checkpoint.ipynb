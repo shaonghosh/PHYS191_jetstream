version https://git-lfs.github.com/spec/v1
oid sha256:18aecdd51018c5df3db64db368152e28d8f94afaef14ae103cfc8efd42f7aed8
size 167249
