version https://git-lfs.github.com/spec/v1
oid sha256:270b4ead4ce50722c8a9758379b4a997d671f83432214f4ef1b4d969db97896b
size 300308
