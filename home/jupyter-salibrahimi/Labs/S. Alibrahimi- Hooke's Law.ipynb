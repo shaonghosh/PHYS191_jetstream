version https://git-lfs.github.com/spec/v1
oid sha256:50247382eca57d2223d29e06756e68ba1d11eff764ebd9e0b5b064f4ec9eee8d
size 143485
