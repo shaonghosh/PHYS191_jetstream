version https://git-lfs.github.com/spec/v1
oid sha256:7f6dffabbc2228931d8534a580404bb3e171e99c23565ddb29ebba1e67df93d1
size 474742
