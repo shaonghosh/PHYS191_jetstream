version https://git-lfs.github.com/spec/v1
oid sha256:0980beccb068183d2ac46dd4d00dd72759aee9aa976ac16851ccf559ddf5c82c
size 326194
