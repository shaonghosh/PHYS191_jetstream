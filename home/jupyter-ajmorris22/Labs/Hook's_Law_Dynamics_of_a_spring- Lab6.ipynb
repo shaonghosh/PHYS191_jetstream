version https://git-lfs.github.com/spec/v1
oid sha256:974f46ae5d12e9c1967edd8eb053a2bd34ed23e192caaf7e3dd709fe41a52eba
size 146989
