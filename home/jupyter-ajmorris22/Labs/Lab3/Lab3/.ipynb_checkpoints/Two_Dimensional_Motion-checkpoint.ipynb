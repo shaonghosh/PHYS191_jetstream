version https://git-lfs.github.com/spec/v1
oid sha256:fdf357618fdd7f88353166fc1d76010e3748b9501b7a5d488c41850b9fa404f3
size 395895
