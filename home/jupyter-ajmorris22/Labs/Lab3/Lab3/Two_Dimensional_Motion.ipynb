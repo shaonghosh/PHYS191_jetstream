version https://git-lfs.github.com/spec/v1
oid sha256:ac5e2e69afde6f2613601c4921f1bca17b7fc83edb5697e1a9d5ecf0e43a03da
size 396317
