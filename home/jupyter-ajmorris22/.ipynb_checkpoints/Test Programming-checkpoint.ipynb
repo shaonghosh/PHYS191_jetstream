version https://git-lfs.github.com/spec/v1
oid sha256:9cf566ee8290e426f1ef22dbd47dc62cdd19fa5387e920159528a91587de7005
size 33252
