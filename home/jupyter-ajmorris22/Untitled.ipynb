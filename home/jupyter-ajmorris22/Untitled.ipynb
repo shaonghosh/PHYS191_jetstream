version https://git-lfs.github.com/spec/v1
oid sha256:83ff257a86f044b8225ac461f93c1d5bf74c0daf4171bc90d016d72e3d5f37b5
size 27653
