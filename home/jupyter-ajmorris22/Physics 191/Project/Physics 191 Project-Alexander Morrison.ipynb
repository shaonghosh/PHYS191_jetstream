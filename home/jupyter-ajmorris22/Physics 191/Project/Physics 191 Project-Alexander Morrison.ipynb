version https://git-lfs.github.com/spec/v1
oid sha256:3d154bec2766b1c81fffdb8eddf345e69e04ec4bd1524e5d64eb5e3e3c75b2e7
size 79478
