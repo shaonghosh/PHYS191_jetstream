version https://git-lfs.github.com/spec/v1
oid sha256:912e8667baf88fa7875fecdda744dcbd7db3877e249610c5df7d96ae85e88ff7
size 142016
