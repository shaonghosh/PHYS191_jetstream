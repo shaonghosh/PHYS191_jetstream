version https://git-lfs.github.com/spec/v1
oid sha256:ef0678de0afbf0d6820511eca076654a19a42c505d78edb463739141186d03d8
size 138347
