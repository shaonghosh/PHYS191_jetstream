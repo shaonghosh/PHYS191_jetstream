version https://git-lfs.github.com/spec/v1
oid sha256:5fb5dd22135ef27d7fe589983d33f0b889ce3f336d1f934823590fec093936e8
size 386652
