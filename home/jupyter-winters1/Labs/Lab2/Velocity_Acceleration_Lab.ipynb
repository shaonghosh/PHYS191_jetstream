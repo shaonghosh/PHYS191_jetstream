version https://git-lfs.github.com/spec/v1
oid sha256:6e723f5cee8f3c5b98c53a90a74e950a64c5a8762dc6617e8fceceac2b5cbea1
size 63485859
