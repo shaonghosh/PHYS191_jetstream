version https://git-lfs.github.com/spec/v1
oid sha256:3c2dd29c9b09b66abef80f5628fc42e97dd352cbfb48fcb75e6e60c2cf8c9eb1
size 82784810
