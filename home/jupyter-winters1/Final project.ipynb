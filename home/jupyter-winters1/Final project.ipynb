version https://git-lfs.github.com/spec/v1
oid sha256:4c8a3692c662ce93ea0d7924253ee993e3fb3dad836002542131cef10e2e9d0b
size 724157
