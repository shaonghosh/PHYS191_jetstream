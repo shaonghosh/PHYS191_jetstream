version https://git-lfs.github.com/spec/v1
oid sha256:607738bd65786b48d0ba83a7b2d6fed3a90d9c5dbd9c6f90ff4cc4062807294a
size 722571
