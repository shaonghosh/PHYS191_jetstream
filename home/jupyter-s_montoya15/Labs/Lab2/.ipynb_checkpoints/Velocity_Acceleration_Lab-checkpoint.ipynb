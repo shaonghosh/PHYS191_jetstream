version https://git-lfs.github.com/spec/v1
oid sha256:f2ff508dc4bd94da14c99067d859326202a0e437aa82089c74683395bc80d575
size 427208
