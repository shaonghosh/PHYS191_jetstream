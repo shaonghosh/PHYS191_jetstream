version https://git-lfs.github.com/spec/v1
oid sha256:a6637e9d0545ea900b37d04ba8f29a908a6dff452e73d165d6718f062a3fd823
size 139172
