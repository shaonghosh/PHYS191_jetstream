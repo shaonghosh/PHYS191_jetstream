version https://git-lfs.github.com/spec/v1
oid sha256:248f650d7220139b867a69093e44c7bb94e28f359b5c318e7bf5eadddfc3bc0b
size 416907
