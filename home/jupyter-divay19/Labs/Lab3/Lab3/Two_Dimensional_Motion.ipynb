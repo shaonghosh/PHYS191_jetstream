version https://git-lfs.github.com/spec/v1
oid sha256:8b0af85d7990d95be32ceb675642336af298041b4bb2b88fc524907d9f532f69
size 14156114
