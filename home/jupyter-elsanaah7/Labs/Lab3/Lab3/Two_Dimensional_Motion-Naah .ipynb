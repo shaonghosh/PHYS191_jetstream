version https://git-lfs.github.com/spec/v1
oid sha256:be47880aa9a0e633db82f3bbad1de90c4356c698e9b72e4d3c6682caa11e27c3
size 396343
