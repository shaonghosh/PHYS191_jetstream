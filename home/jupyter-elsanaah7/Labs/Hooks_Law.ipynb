version https://git-lfs.github.com/spec/v1
oid sha256:2f2ccb38405eff88a1829f63a845c416a57c9d1eca3804b3836d507816fe57c7
size 1447
