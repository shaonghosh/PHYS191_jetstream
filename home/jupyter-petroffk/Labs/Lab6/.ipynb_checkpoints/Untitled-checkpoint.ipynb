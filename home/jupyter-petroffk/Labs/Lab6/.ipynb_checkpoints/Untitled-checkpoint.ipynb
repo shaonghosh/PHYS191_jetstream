version https://git-lfs.github.com/spec/v1
oid sha256:ec6f92a9f849835940b6ec189ed8d3b496c24b115f887f2c7613d68a3e9b6805
size 142640
