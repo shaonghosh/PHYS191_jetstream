version https://git-lfs.github.com/spec/v1
oid sha256:b6b6380c690b97ff9dd94b9eb4d543173d640f9938cc67b0c84783a99c842dda
size 406653
