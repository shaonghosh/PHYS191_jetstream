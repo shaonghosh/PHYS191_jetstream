version https://git-lfs.github.com/spec/v1
oid sha256:a26eccd9bcf3e646cdc5163905c3ab56a5c2084d190f41920a9383f1c611de95
size 1030339
