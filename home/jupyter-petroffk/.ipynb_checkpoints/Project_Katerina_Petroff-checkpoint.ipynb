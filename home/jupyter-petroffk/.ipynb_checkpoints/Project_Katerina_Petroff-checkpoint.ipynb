version https://git-lfs.github.com/spec/v1
oid sha256:42912011794e5c7d93d14b46da3b3e2b22112b620d8b5ad716306fe935be3e07
size 1030339
