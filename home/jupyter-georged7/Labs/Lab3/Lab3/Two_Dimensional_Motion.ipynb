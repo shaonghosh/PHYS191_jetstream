version https://git-lfs.github.com/spec/v1
oid sha256:91311ae0bc2e86e16127677202d802adaed34cdfbaa881aa2e683f4d15f250f7
size 398696
