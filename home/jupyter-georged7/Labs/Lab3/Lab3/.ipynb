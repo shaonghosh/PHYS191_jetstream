version https://git-lfs.github.com/spec/v1
oid sha256:0c9ab4499a40737985edf19fec967a9e740e2273ffba91a6cbad02f3301c25b8
size 397904
