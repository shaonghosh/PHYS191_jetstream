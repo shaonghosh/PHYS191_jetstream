version https://git-lfs.github.com/spec/v1
oid sha256:7ae29684cbdf651161ee44b95bffac478d62bf5d87ebcb2aef7666235337a1c5
size 150566
