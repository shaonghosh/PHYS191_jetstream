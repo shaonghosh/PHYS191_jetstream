version https://git-lfs.github.com/spec/v1
oid sha256:7e98f0bbaa0a89996cc9f85215874101bf4b1436adf67f0cc40fe36a2f75033c
size 269843
