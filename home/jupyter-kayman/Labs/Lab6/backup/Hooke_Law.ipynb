version https://git-lfs.github.com/spec/v1
oid sha256:5576b776d2d9cb07e7905fd9327c348826cc126ccbe1c0c1dac15259c4f89c00
size 131939
