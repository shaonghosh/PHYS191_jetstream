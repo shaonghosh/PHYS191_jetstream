version https://git-lfs.github.com/spec/v1
oid sha256:cf884777f706c10098e14a6aef30a26c37f72d7e65e124baa19ece5048884f09
size 321985
