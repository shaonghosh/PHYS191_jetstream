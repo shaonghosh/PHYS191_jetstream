version https://git-lfs.github.com/spec/v1
oid sha256:15bbd0b8ccbecaf892a40a742cc95d5057d06f9d02849847b61513e1851ee95a
size 10014
