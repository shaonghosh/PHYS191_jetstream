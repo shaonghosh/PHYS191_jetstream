version https://git-lfs.github.com/spec/v1
oid sha256:c467d88803327f9accc5177595439e5ce793492e0c6f700f0007c4b85b18cf0c
size 391222
