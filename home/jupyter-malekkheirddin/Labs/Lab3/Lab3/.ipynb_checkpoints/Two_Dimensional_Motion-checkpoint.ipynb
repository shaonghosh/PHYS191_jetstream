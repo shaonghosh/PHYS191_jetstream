version https://git-lfs.github.com/spec/v1
oid sha256:d40fa6356d46bbfd43e175a7c9961141756ce0592331dd2230200994357f7268
size 396561
