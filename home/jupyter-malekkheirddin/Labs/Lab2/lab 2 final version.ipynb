version https://git-lfs.github.com/spec/v1
oid sha256:5b2523639ae29dd2caf98402bfab49b1214ab2f9dc9a8d16fb8ffb6cb93d7a84
size 302589
