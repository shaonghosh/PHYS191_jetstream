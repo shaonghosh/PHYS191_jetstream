version https://git-lfs.github.com/spec/v1
oid sha256:90eeb94204e7ec72dfc0eee51abe287f9e3ced5b82e3dcb58faed0eb55c5b068
size 236786
