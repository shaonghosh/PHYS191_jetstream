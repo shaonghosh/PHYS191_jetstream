version https://git-lfs.github.com/spec/v1
oid sha256:11cc7eebf4f85a9d9999bbe1cb64def74853ce2e2d95f965d26bceabcbfd1262
size 8327
