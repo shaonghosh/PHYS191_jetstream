version https://git-lfs.github.com/spec/v1
oid sha256:5eff932c12d277b6368d3d8161035e48b79fadc5d5fceabf7fc6cca0ad9523ae
size 1636
