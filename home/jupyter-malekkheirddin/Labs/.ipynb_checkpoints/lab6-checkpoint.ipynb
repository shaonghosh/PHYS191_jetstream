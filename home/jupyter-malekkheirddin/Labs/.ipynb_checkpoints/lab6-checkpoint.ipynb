version https://git-lfs.github.com/spec/v1
oid sha256:96dab7bdb0ddf437e97ae741bb3bc1bb0d648e54893735ee4115049b8ac325c2
size 149833
