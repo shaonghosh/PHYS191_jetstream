version https://git-lfs.github.com/spec/v1
oid sha256:5b1549245baa9819e117a496bf64545b9a83b20229a77eb2486b848fdad20533
size 156570
