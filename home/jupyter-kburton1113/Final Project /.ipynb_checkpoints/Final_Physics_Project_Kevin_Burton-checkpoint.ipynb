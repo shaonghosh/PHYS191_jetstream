version https://git-lfs.github.com/spec/v1
oid sha256:626f46889be97511dce5d289460fc06d0c73bd0d92a82ca1675d11c3e19f0379
size 473046
