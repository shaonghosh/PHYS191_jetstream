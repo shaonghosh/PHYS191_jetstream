version https://git-lfs.github.com/spec/v1
oid sha256:1d33c064efce1f533006a1d59b6e34f72ffdc79004994b8148f97631deb132ad
size 156419
