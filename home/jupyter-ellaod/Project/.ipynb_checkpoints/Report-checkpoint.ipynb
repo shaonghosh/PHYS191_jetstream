version https://git-lfs.github.com/spec/v1
oid sha256:dd15f48a1a6ee275ad694361e4fa212ad470c3792adaf3a34d8b01ef8e4cf553
size 473181
