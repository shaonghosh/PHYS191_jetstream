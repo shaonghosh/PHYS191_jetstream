version https://git-lfs.github.com/spec/v1
oid sha256:f879fd8a0f720b2542f4cec3ad0c4f24da897dad800b1cd88f1b54fe1b974642
size 222343
