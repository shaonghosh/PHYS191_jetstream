version https://git-lfs.github.com/spec/v1
oid sha256:c84d1c9ad42c1c3d586da1341bfa614a5a4f07e708f0f0c07efb1f588a2fd4a1
size 1174651
