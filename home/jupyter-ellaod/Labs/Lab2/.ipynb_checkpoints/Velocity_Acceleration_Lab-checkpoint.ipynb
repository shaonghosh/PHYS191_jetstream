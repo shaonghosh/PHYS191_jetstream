version https://git-lfs.github.com/spec/v1
oid sha256:f14094cf992828f0b01556f68c021e76ab8b72584a74a084bde4fbcacaac5a91
size 1298660
