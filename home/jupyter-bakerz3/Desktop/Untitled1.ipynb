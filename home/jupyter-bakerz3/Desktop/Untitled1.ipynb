version https://git-lfs.github.com/spec/v1
oid sha256:5447a78821f7e2fb34a8ebd2afb5d7f92468428b96f28e0e6f3b54b90a14535d
size 5165
