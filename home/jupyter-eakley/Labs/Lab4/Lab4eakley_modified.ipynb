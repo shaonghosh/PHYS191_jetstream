version https://git-lfs.github.com/spec/v1
oid sha256:90b07f69c4600f815d03b1f5ca5e8dc2c86e84100d9d27411818f2d7dc926946
size 131945
