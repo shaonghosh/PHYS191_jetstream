version https://git-lfs.github.com/spec/v1
oid sha256:b809ea463cad00324110b56ec27d0e2a7ddf78ab4cf81b3850ad30e2642f8727
size 380026
