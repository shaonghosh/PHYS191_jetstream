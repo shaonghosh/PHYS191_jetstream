version https://git-lfs.github.com/spec/v1
oid sha256:d234c491cd6c78f10fac8a4a4aea092d0990f29d8344a6ab8556b1e993ebc437
size 396592
