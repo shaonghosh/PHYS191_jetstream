version https://git-lfs.github.com/spec/v1
oid sha256:8ada5f7059347e5619f50049a19ba53abfd4a10206f140306ab050d138664008
size 28668
