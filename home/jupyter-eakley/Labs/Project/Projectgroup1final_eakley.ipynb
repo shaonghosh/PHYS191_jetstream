version https://git-lfs.github.com/spec/v1
oid sha256:0e2162cb3aebe670e64e240e87165767e1d7b0aa1759b3d5ac46179f943f41f4
size 31090
