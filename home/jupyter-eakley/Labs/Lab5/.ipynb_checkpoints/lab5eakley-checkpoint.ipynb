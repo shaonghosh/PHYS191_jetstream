version https://git-lfs.github.com/spec/v1
oid sha256:e11b598d53a16baadd658aaefdac531eca7f698ee51eb34ddec4f2f426bc6e37
size 110120
