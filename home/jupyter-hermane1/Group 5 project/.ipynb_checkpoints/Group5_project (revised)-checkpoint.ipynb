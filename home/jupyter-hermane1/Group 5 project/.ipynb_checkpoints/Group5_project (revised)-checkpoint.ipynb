version https://git-lfs.github.com/spec/v1
oid sha256:8303f50702321b74b1586e4dd76d4f73fac7ba3818e575f20a66e51a6493ac68
size 12424
