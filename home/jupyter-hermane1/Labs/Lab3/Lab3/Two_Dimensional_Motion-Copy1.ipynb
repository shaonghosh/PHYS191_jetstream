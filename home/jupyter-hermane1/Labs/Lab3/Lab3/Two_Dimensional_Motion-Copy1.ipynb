version https://git-lfs.github.com/spec/v1
oid sha256:39c7e7208a4163b632c60caf5019feac1eb90773e1df462d2a881562439c74d7
size 8907199
