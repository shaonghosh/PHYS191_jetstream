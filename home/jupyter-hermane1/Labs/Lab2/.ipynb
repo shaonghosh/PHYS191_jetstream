version https://git-lfs.github.com/spec/v1
oid sha256:ce51708f617f54aff5180a84ade910c9409b25a3af3cd51eae8cf87594dd829c
size 125182
