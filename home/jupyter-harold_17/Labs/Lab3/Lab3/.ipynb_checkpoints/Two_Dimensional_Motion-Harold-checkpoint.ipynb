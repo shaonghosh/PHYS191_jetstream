version https://git-lfs.github.com/spec/v1
oid sha256:9c498922aa62273aa67896c03a8c73c5ff09bd727679463709360cb35306d334
size 397053
