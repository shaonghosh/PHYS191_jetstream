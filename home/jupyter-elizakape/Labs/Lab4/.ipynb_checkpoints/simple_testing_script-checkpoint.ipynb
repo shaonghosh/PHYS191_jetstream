version https://git-lfs.github.com/spec/v1
oid sha256:d993c6294f823e12f1f5dde45c9e151fc6d720bc66df139c01c6911938228757
size 4415
