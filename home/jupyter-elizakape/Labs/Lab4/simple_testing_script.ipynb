version https://git-lfs.github.com/spec/v1
oid sha256:d8647c04d40d02951f8ad070c82dbfd9ec54f0dcfb467f477f5ae916d98c5753
size 7128
