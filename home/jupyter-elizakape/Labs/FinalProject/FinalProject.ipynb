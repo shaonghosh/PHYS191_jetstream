version https://git-lfs.github.com/spec/v1
oid sha256:bec2825d3a471707df1038cc14c066ee58238e4b12e10966744d1de91bb35994
size 74733
