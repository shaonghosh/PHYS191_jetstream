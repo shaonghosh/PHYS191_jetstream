version https://git-lfs.github.com/spec/v1
oid sha256:cedab9cef87645f0d79f75f449c6573616cc74605615e7005ee0499d33529286
size 322503
