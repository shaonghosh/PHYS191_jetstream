version https://git-lfs.github.com/spec/v1
oid sha256:67731f43f55a58cf3a92284dff94c816087432ec0f25d60c7349a43ceadd1c78
size 268311
