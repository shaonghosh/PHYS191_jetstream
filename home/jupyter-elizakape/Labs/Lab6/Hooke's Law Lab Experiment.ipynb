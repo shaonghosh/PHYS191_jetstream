version https://git-lfs.github.com/spec/v1
oid sha256:e859925a15b541926cc433de641bcd505d90f357d17a1b66c63b176955b87a53
size 138146
