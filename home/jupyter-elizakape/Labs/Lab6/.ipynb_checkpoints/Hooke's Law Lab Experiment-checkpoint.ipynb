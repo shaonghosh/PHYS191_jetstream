version https://git-lfs.github.com/spec/v1
oid sha256:45ab1d28c326e1a0195e08ac52811a1a24d0b230884d7c467f4d3f11595b26de
size 138374
