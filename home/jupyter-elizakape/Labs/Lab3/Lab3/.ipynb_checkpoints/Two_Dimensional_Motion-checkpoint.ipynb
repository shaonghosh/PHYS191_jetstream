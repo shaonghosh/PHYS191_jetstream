version https://git-lfs.github.com/spec/v1
oid sha256:36f69aaf9c2f51e4995365bdeefba6c4d12536a342b2a286d42c7cc4f2b30a8e
size 399336
