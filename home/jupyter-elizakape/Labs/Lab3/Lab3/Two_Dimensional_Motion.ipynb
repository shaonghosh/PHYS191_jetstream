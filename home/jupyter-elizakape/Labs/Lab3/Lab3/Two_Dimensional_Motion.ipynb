version https://git-lfs.github.com/spec/v1
oid sha256:48dd809fe8e38b6846c6440b96447d3085746f874610baac9af5e54141ffa192
size 400162
