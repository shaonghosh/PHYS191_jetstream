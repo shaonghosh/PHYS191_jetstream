version https://git-lfs.github.com/spec/v1
oid sha256:beb0c9e079790823480ca893a8f190e93229fcc874f8cd79b53e541374818758
size 124529
