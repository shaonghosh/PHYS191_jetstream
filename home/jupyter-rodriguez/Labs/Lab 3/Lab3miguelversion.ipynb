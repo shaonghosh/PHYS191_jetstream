version https://git-lfs.github.com/spec/v1
oid sha256:11bb2d4a742ae04ca1f97f77cda6277dee667d29990a507680a698dfeefa85d0
size 80116
