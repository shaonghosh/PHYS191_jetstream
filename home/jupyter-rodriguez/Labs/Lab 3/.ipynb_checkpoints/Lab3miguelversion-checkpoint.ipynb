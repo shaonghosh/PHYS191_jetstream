version https://git-lfs.github.com/spec/v1
oid sha256:5b0a002951072be929032b3ac2d4e698ef7710c30980dd3b955ee8d03b034a85
size 80115
