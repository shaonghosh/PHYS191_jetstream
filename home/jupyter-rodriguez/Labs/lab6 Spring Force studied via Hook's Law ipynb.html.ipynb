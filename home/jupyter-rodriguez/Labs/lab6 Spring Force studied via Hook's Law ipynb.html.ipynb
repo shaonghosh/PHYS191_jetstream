version https://git-lfs.github.com/spec/v1
oid sha256:44e4393be983ea8a50501a5ba94b6f44c0c94eca164b39a8e7104ec8bdd4d080
size 205256
