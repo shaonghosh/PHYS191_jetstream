version https://git-lfs.github.com/spec/v1
oid sha256:2eac0f8e1d87e846aa688653c7fb0db2c2acf83a85f3377694afa9c062f89090
size 403787
