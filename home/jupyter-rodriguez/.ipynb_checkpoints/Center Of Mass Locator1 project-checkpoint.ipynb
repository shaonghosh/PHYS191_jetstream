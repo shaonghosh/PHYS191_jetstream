version https://git-lfs.github.com/spec/v1
oid sha256:99df3b9a396fc11bb6bc0747e6db6623a0bb05bd2d9cf3fdf6c4c715ceb19a5d
size 161364
