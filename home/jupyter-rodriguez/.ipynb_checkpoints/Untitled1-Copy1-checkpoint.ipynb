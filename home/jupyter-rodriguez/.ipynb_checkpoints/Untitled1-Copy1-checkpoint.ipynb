version https://git-lfs.github.com/spec/v1
oid sha256:577880781dc3d8a11ce3ade09072b207efb9d81d07e060d67f6cb3ef21bab00b
size 1810762
