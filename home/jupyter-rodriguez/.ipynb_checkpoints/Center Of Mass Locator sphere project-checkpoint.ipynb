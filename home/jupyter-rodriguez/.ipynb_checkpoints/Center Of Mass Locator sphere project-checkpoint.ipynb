version https://git-lfs.github.com/spec/v1
oid sha256:27b576ca44cd284fdb5963261d3347e9e6e5f06c87c8baf5b44c127f69fff86d
size 1410
