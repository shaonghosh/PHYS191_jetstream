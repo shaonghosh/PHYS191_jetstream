version https://git-lfs.github.com/spec/v1
oid sha256:6927058da15119ed8cdde42aba5e8ae23a14c41bae5271ddb828dff03ec44cdc
size 1810986
