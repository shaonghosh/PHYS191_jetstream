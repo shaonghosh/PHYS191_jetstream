version https://git-lfs.github.com/spec/v1
oid sha256:4aaeee2695f250c480978883e321a8d8423d49512f1c5c588ab6777e6d017cfb
size 161364
