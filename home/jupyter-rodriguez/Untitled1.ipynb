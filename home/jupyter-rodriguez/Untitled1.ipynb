version https://git-lfs.github.com/spec/v1
oid sha256:e4e2465fb2d0b50c71c2551919a32133bec14985e4900cfd298c008114e8b065
size 905978
