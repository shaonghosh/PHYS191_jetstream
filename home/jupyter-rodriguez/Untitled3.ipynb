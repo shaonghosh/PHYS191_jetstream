version https://git-lfs.github.com/spec/v1
oid sha256:92b6f61e4a6a29022397b79e2a1c3777d6761529976ac94141d9abdcc8b3e532
size 606716
