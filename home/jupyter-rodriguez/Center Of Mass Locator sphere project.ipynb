version https://git-lfs.github.com/spec/v1
oid sha256:1f7524feb5d8b56d59d9d7554858b72841b1652dbb8273f0f10ee75649758cca
size 280224
