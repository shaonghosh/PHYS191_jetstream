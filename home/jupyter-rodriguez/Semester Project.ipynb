version https://git-lfs.github.com/spec/v1
oid sha256:c11a290d8a1db65211d935a3af4365779fdba9f3cc4c354d2dd7409ff63f5bf2
size 504801
