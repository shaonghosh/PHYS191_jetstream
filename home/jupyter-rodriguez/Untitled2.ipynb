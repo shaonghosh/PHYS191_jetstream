version https://git-lfs.github.com/spec/v1
oid sha256:d4b3004482eb229cb5dbe00aaf0e36c820f2bc6160e31ba64cf57d30fa7dad02
size 862
