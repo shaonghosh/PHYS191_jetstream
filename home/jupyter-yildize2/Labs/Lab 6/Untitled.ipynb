version https://git-lfs.github.com/spec/v1
oid sha256:27b02b1e52c172e0f3c757248567c6a4e3c635a36b8cad8c1f8d37b22d1d51f9
size 3802
