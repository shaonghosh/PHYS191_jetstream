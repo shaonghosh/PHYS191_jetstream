version https://git-lfs.github.com/spec/v1
oid sha256:596c90e3e05bed919ef5badfcf2cd13e520ae959fb17f28aff5695c3c80dc047
size 232818
