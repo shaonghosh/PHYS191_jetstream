version https://git-lfs.github.com/spec/v1
oid sha256:a0c146d3123dc420a47702932668a121e12cba883d6f517a406e1da4c1a7b4b9
size 127312
