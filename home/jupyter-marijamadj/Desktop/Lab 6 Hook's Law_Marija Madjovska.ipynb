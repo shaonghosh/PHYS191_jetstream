version https://git-lfs.github.com/spec/v1
oid sha256:8ffb78fbfa4211234b12d483c728f6c7801375a676786713ddcd9095e51e52da
size 153292
