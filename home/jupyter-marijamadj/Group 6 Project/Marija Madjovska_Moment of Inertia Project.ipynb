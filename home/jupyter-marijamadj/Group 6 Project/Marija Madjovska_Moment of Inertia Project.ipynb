version https://git-lfs.github.com/spec/v1
oid sha256:ce0261d287fde51709f041fa67b8e674c370346bd8d7ec57e4d1dffdc3153fd6
size 409378
