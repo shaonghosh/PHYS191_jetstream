version https://git-lfs.github.com/spec/v1
oid sha256:93768ad2c774172dc7c7a51b2364be3fccf170e86121ea802e080626296f9860
size 409096
