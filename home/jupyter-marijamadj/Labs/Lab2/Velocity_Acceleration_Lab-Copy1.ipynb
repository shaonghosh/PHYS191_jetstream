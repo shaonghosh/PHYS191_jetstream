version https://git-lfs.github.com/spec/v1
oid sha256:581fe706aecae98199f552a440515221f03eb9d143b74129384e52855b5256ee
size 268364
