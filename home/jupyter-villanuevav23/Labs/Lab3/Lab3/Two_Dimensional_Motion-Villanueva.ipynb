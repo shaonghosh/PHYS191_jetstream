version https://git-lfs.github.com/spec/v1
oid sha256:229157dbb77daee902b650712f50a94757b6b4f317044e280a8a09c6f0bd39bf
size 409498
