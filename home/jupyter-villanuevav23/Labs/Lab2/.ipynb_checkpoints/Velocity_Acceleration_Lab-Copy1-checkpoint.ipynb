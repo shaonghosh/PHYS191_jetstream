version https://git-lfs.github.com/spec/v1
oid sha256:72311c79282e9f9b4f4027209ec25ca81bfe2a2b0114eb43dd40254e33370345
size 660023
