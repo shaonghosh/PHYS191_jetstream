version https://git-lfs.github.com/spec/v1
oid sha256:2200993033dd91445320c38444e32d821f57c5cd3be33cde27538ed3fb3988b8
size 25437
