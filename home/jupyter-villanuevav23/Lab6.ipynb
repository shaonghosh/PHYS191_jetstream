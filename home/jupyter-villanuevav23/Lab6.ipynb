version https://git-lfs.github.com/spec/v1
oid sha256:2458902534aea0e47285e72568b56cb3bae3995d82bfa15902b7b5408c1e421e
size 143425
