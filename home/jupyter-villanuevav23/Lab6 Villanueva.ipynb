version https://git-lfs.github.com/spec/v1
oid sha256:12422b1e167f5a2c3d3e45aec6cbca1b91c7a91031c01f184a472fbd5d010730
size 145510
