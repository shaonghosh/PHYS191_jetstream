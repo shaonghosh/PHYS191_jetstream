version https://git-lfs.github.com/spec/v1
oid sha256:10863ff768f37b413d1421b77471167fc056b6b154cdfd61eb02467a4613f510
size 425615
