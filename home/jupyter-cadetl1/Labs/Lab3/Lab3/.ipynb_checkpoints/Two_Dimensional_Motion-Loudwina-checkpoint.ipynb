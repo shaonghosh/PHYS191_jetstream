version https://git-lfs.github.com/spec/v1
oid sha256:4343c73c5ccc593a0879d8c4a4e9ef607173b2b2bd73dcac8868a4409d8bbaf2
size 425843
