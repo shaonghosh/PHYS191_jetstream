version https://git-lfs.github.com/spec/v1
oid sha256:a99748ba3c9aebb294ef978396b507c3ed9724531a8235c05c3e7394d7fe9a78
size 435325
