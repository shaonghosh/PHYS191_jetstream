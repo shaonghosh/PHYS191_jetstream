version https://git-lfs.github.com/spec/v1
oid sha256:75504c24a4aeb0f6243d7fdac3e55fc1d032ffc884a8e031312e0589e0f8ef9d
size 307102
