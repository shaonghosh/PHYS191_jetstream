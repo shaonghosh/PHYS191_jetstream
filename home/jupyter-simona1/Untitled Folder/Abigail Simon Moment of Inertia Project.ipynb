version https://git-lfs.github.com/spec/v1
oid sha256:0cdbde0ca3699390ec3d5cce805a62d58eba4b20ed248441e6519308c897fbf7
size 409087
