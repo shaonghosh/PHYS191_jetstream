version https://git-lfs.github.com/spec/v1
oid sha256:9d51e24069cd93749e2263b66f565dbc52fd1a1637342bcada9ee974c06202aa
size 3078939
