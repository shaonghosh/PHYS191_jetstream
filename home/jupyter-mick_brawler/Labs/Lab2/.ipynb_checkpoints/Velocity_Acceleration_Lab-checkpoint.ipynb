version https://git-lfs.github.com/spec/v1
oid sha256:50c5a13813fb4010dac5d7130a2315dd257d4f4624ae70603bc1dfe86eea9ad2
size 3078880
