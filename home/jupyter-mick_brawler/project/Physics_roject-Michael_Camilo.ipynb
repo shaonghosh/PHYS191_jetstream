version https://git-lfs.github.com/spec/v1
oid sha256:f4054181b3d2c4d8c9618958c6a290139e0aac027d8a30017eb20e9c0050566f
size 78780
