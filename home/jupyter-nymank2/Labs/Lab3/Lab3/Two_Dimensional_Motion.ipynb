version https://git-lfs.github.com/spec/v1
oid sha256:8efcbe88a825e7d5c75c1492654be28abe2fdf10726c9e277a27ab039facf5e4
size 396317
