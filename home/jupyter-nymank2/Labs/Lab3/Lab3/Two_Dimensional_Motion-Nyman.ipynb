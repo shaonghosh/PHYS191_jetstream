version https://git-lfs.github.com/spec/v1
oid sha256:f50ca799597a62750c423dd1d1d348c85d217803f6f672bec30d6e0383436a85
size 397625
