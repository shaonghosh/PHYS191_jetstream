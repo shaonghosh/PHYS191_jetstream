version https://git-lfs.github.com/spec/v1
oid sha256:c72546ee594c520b2cbee2d9f5d47371d4bfe89bb84865f1e8ed1fb1727b98e3
size 396319
