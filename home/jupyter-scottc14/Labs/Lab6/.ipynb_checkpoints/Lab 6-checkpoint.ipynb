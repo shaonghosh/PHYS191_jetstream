version https://git-lfs.github.com/spec/v1
oid sha256:69c19795e1e0dbd9a258472e0d97a4c036b1e2f8207ec08d4a16920bd72dcf2f
size 135275
