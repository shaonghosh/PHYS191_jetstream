version https://git-lfs.github.com/spec/v1
oid sha256:8cc8bcda6a9583bd906d10d7e2ace95c2f3f48189cbced676efab16bcd696b48
size 253716
