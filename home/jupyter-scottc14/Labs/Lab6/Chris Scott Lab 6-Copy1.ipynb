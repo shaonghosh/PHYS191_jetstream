version https://git-lfs.github.com/spec/v1
oid sha256:8afcc2a82148574368b741b8a823ae1c1a7593bb0ba8e0b8646546776b7c02ae
size 236780
