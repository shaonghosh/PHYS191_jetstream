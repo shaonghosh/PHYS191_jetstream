version https://git-lfs.github.com/spec/v1
oid sha256:ba900bb56459c3a78f2ef5c5364775b4a11103658a670481652d57fd02b6e8e2
size 5733700
