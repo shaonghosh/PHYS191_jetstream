version https://git-lfs.github.com/spec/v1
oid sha256:0ba24fd94633b40aec0f1037ac4163e041b5f3321257db26a6fdb43d91a831ad
size 150577
