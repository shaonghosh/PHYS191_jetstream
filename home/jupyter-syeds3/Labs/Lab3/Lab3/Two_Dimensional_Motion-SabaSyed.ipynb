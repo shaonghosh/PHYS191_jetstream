version https://git-lfs.github.com/spec/v1
oid sha256:70974eef1d7b264048a67c51aedee06a2b9294e561d86796ea2cd97c534950c0
size 413726
