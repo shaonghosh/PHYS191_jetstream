version https://git-lfs.github.com/spec/v1
oid sha256:9feebcedd5e39c63349bd705c36671ec642b51ba412ce7d1ea7274cb5a14eeef
size 409093
