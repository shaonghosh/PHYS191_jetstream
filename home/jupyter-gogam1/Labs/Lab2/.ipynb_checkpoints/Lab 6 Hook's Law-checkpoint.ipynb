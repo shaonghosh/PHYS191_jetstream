version https://git-lfs.github.com/spec/v1
oid sha256:a48e90aa2248dad60bfe755a87e50d0b71161d014435a9b05501aab2a03ff2f4
size 315015
