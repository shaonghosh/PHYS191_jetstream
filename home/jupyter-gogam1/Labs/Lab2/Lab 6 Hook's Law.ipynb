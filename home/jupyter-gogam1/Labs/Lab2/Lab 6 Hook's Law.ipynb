version https://git-lfs.github.com/spec/v1
oid sha256:c7cf4651e572c0c30274876be46fba3d5e185071fbf1cd4dd50372db46c8b7a0
size 15851
