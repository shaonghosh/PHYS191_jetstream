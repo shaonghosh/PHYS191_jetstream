version https://git-lfs.github.com/spec/v1
oid sha256:30d1df071b9a11131380ada682b613777a8eb1a7a0e7b3d76fc02b450c18d33c
size 154183
