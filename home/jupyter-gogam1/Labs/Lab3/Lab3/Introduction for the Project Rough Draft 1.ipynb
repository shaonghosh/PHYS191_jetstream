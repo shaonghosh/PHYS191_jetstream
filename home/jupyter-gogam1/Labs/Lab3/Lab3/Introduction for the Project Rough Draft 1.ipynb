version https://git-lfs.github.com/spec/v1
oid sha256:00288f299b10769f9865f06755078e4d47ad396eeb2b5157290e0cea5df4f4e5
size 1930
