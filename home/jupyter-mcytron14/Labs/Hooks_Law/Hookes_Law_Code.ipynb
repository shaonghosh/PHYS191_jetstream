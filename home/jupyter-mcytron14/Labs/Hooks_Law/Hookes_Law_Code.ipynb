version https://git-lfs.github.com/spec/v1
oid sha256:9b5f40a0f6254d5caaae9805ef010918cc078c932672c1dd53af43c8d9359fa6
size 155249
