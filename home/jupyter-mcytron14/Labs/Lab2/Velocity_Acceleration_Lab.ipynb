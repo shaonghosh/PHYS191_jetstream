version https://git-lfs.github.com/spec/v1
oid sha256:3fd568638ab4c9745282c0807ce183c722af8f80540489a8da7e5c9e56f5283e
size 4072583
