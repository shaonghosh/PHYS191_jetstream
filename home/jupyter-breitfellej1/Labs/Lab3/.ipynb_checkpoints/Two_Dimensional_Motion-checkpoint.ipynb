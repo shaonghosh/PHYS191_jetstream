version https://git-lfs.github.com/spec/v1
oid sha256:b6307d7cc552ed517e27f1498fb0ce76853f92a6fa9c6e6ae5edc8465e5c7726
size 390731
