version https://git-lfs.github.com/spec/v1
oid sha256:87afa1c8dbbce0a365ff758e5be6113e472a7108fe60683e25f1046ff091fe78
size 22976889
