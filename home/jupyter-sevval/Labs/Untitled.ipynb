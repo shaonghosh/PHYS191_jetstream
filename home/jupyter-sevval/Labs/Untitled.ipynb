version https://git-lfs.github.com/spec/v1
oid sha256:0611741e8e4147f5506576ef3d63d2ecfe777e6b10c529c11ecc164666d9f01d
size 46220
