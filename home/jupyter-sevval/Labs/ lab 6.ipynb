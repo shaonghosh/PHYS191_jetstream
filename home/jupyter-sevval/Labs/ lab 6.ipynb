version https://git-lfs.github.com/spec/v1
oid sha256:fe2798d8951542fc1e15b60ed0127e7ca0a90dec080e0d9f150b27b0af3362e2
size 149516
