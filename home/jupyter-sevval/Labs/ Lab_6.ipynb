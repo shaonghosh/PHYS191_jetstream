version https://git-lfs.github.com/spec/v1
oid sha256:1ef4fc28ff6bea6e69cafce82c9bf7fad059206108d1c6e81ea75552e7b5da72
size 149630
