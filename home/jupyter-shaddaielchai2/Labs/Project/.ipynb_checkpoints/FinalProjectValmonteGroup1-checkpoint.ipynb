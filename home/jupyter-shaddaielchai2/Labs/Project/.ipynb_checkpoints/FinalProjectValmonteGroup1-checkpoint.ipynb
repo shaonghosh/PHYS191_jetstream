version https://git-lfs.github.com/spec/v1
oid sha256:30937b0581e6d597ffd3041c0c9c4b03e66b95e4c54f601f3727a3a729f054cd
size 31099
