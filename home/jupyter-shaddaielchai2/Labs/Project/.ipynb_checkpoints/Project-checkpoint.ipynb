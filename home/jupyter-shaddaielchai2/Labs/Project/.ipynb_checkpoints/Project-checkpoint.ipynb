version https://git-lfs.github.com/spec/v1
oid sha256:1bba2393abf2fb8565533936333f453719412e489c0fdb2a687bce6539eb39e7
size 16932
