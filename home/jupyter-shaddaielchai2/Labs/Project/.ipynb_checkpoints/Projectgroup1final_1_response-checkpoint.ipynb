version https://git-lfs.github.com/spec/v1
oid sha256:c07607f088e153ca59c79183c2e360bdbaadd1a3b0e5d12404bfca0982c5f8f4
size 78799
