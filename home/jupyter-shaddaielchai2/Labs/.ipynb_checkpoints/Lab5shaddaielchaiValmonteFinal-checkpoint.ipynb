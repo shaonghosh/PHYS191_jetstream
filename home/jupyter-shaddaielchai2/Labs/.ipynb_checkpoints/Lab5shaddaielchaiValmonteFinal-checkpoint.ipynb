version https://git-lfs.github.com/spec/v1
oid sha256:0e0775ddd039efb25f0aabf88344d6e73a4de43a883b257504301ac5c22bf850
size 109587
