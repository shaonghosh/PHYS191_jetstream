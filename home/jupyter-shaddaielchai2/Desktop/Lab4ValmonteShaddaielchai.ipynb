version https://git-lfs.github.com/spec/v1
oid sha256:1ea01df1f02c51ca31762150211b34e33f8a572b2988b3c48b98fd00d826a777
size 127681
