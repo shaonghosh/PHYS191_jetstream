version https://git-lfs.github.com/spec/v1
oid sha256:4d5f808a57830867e7ef05bff1d5b0a35ef590843593dc852bdf7b2cd7a24d21
size 400995
