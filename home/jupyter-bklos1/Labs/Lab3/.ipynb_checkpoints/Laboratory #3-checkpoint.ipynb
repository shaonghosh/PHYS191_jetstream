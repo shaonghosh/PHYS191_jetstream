version https://git-lfs.github.com/spec/v1
oid sha256:2dd4cd4e6495a2d422d9a2bc17347fe215feb70b751ff9ea7a0337ec3579cedf
size 126821
