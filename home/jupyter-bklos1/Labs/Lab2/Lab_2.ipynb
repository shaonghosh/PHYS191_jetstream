version https://git-lfs.github.com/spec/v1
oid sha256:334c9a229528d8fb29e39ae8fe83ede6d9b8800a9b0e29965a2ea6b78b9412df
size 297398
