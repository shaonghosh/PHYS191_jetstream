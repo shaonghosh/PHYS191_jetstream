version https://git-lfs.github.com/spec/v1
oid sha256:7d5987bfa0f86b6621696209ad1ac04e66e39bf34cc70dd2911fce57cda8ba83
size 29179
