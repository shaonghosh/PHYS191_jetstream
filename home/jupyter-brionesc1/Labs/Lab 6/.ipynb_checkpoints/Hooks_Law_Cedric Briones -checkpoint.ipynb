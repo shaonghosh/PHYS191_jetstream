version https://git-lfs.github.com/spec/v1
oid sha256:8528fbe71842951c30c9a84acee5c8af73b6f837d8a47421bd81659339d540a8
size 217478
